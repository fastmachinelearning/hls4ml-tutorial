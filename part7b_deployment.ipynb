{
 "cells": [
  {
   "cell_type": "markdown",
   "id": "033cc4d9",
   "metadata": {},
   "source": [
    "# Part 7b: Deployment on PYNQ-Z2\n",
    "The following section is the code to execute in the pynq-z2 jupyter notebook to execute NN inference. \n",
    "\n",
    "The following cells are intended to run on a pynq-z2, they will not run on the server used to train and synthesize models!\n",
    "\n",
    "First, import our driver `Overlay` class. We'll also load the test data."
   ]
  },
  {
   "cell_type": "code",
   "execution_count": null,
   "id": "89c67e4f",
   "metadata": {},
   "outputs": [],
   "source": [
    "from axi_stream_driver import NeuralNetworkOverlay\n",
    "import numpy as np\n",
    "\n",
    "X_test = np.load('X_test.npy')\n",
    "y_test = np.load('y_test.npy')"
   ]
  },
  {
   "cell_type": "markdown",
   "id": "551c5cd6",
   "metadata": {},
   "source": [
    "Create a `NeuralNetworkOverlay` object. This will download the `Overlay` (bitfile) onto the PL of the pynq-z2. We provide the `X_test.shape` and `y_test.shape` to allocate some buffers for the data transfer."
   ]
  },
  {
   "cell_type": "code",
   "execution_count": null,
   "id": "cfb786f3",
   "metadata": {},
   "outputs": [],
   "source": [
    "nn = NeuralNetworkOverlay('hls4ml_nn.bit', X_test.shape, y_test.shape)"
   ]
  },
  {
   "cell_type": "markdown",
   "id": "5fde9b2d",
   "metadata": {},
   "source": [
    "Now run the prediction! When we set `profile=True` the function times the inference, and prints out a summary as well as returning the profiling information. We also save the output to a file so we can do some validation."
   ]
  },
  {
   "cell_type": "code",
   "execution_count": null,
   "id": "1fd6dee7",
   "metadata": {},
   "outputs": [],
   "source": [
    "y_hw, latency, throughput = nn.predict(X_test, profile=True)"
   ]
  },
  {
   "cell_type": "markdown",
   "id": "1983e7d7",
   "metadata": {},
   "source": [
    "An example print out looks like:\n",
    "\n",
    "```\n",
    "Classified 166000 samples in 0.402568 seconds (412352.6956936468 inferences / s)\n",
    "```\n",
    "\n",
    "Now let's save the output and transfer this back to the host."
   ]
  },
  {
   "cell_type": "code",
   "execution_count": null,
   "id": "981ffced",
   "metadata": {},
   "outputs": [],
   "source": [
    "np.save('y_hw.npy', y_hw)"
   ]
  },
  {
   "cell_type": "markdown",
   "id": "b9e92d1e",
   "metadata": {},
   "source": [
    "Now, go back to the host and follow `part7c_validation.ipynb`"
   ]
  }
 ],
 "metadata": {
  "kernelspec": {
   "display_name": "Python 3 (ipykernel)",
   "language": "python",
   "name": "python3"
  },
  "language_info": {
   "codemirror_mode": {
    "name": "ipython",
    "version": 3
   },
   "file_extension": ".py",
   "mimetype": "text/x-python",
   "name": "python",
   "nbconvert_exporter": "python",
   "pygments_lexer": "ipython3",
   "version": "3.9.16"
  }
 },
 "nbformat": 4,
 "nbformat_minor": 5
}
